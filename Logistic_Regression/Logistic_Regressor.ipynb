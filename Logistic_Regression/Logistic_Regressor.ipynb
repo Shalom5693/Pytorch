{
 "cells": [
  {
   "cell_type": "code",
   "execution_count": 1,
   "metadata": {},
   "outputs": [],
   "source": [
    "'''Inplemetation of Logisctic regression to solve Binary Classification Problem'''\n",
    "\n",
    "import matplotlib.pyplot as plt\n",
    "import numpy as np\n",
    "\n",
    "import torch\n",
    "import torch.nn.functional as F"
   ]
  },
  {
   "cell_type": "code",
   "execution_count": 12,
   "metadata": {},
   "outputs": [],
   "source": [
    "###############################\n",
    "### Dataset\n",
    "###############################\n",
    "\n",
    "data = np.genfromtxt('data/toydata.txt',delimiter= '\\t')\n",
    "\n",
    "x = data[:,:2].astype(np.float32)\n",
    "y = data[:,2].astype(np.int64)"
   ]
  },
  {
   "cell_type": "code",
   "execution_count": 26,
   "metadata": {},
   "outputs": [],
   "source": [
    "np.random.seed(123)\n",
    "idx = np.arange(y.shape[0])\n",
    "idx\n",
    "\n",
    "np.random.shuffle(idx)\n",
    "\n",
    "X_test,y_test = x[idx[:25]],y[idx[:25]]\n",
    "\n",
    "X_train,y_train = x[idx[25:]],y[idx[25:]]"
   ]
  },
  {
   "cell_type": "code",
   "execution_count": 25,
   "metadata": {},
   "outputs": [
    {
     "data": {
      "text/plain": [
       "array([[ 1.36, -0.22],\n",
       "       [ 2.92,  2.32],\n",
       "       [-1.26, -2.9 ],\n",
       "       [ 1.59,  1.25],\n",
       "       [-1.05, -3.85],\n",
       "       [-4.09,  1.03],\n",
       "       [ 1.65,  0.63],\n",
       "       [-3.98, -1.05],\n",
       "       [ 2.4 ,  0.91],\n",
       "       [ 3.19,  2.32],\n",
       "       [ 0.97,  2.68],\n",
       "       [ 0.71,  2.27],\n",
       "       [ 2.52,  1.83],\n",
       "       [ 1.31,  1.85],\n",
       "       [ 1.48, -3.74],\n",
       "       [-3.17, -3.69],\n",
       "       [ 1.54,  2.02],\n",
       "       [-1.14, -2.66],\n",
       "       [ 2.61,  2.92],\n",
       "       [-0.33,  1.44],\n",
       "       [ 0.68,  1.54],\n",
       "       [-0.49, -2.74],\n",
       "       [ 0.85,  1.56],\n",
       "       [ 0.45,  0.36],\n",
       "       [ 3.92,  3.48],\n",
       "       [-2.94, -4.47],\n",
       "       [-2.42, -3.35],\n",
       "       [ 0.73,  2.97],\n",
       "       [-2.26,  0.01],\n",
       "       [-0.63, -1.53],\n",
       "       [ 2.77,  2.82],\n",
       "       [-2.64, -2.2 ],\n",
       "       [-3.2 , -0.22],\n",
       "       [ 4.38,  2.94],\n",
       "       [-0.05, -1.95],\n",
       "       [-1.48, -1.17],\n",
       "       [ 1.26,  3.54],\n",
       "       [ 0.02, -0.02],\n",
       "       [-1.64, -1.96],\n",
       "       [-2.41, -2.31],\n",
       "       [-5.27, -0.78],\n",
       "       [ 2.95,  1.84],\n",
       "       [ 2.17,  2.64],\n",
       "       [ 2.67,  2.41],\n",
       "       [-0.37, -1.91],\n",
       "       [-3.33, -0.44],\n",
       "       [-2.97, -1.63],\n",
       "       [-1.74, -1.1 ],\n",
       "       [ 0.83,  3.94],\n",
       "       [-1.08, -1.23],\n",
       "       [-1.69,  0.8 ],\n",
       "       [ 2.3 ,  3.33],\n",
       "       [ 0.9 ,  2.05],\n",
       "       [ 4.16,  3.34],\n",
       "       [-2.14, -1.62],\n",
       "       [ 0.91, -3.07],\n",
       "       [ 1.36,  2.68],\n",
       "       [ 3.87,  2.91],\n",
       "       [-1.52, -1.14],\n",
       "       [ 2.58,  1.79],\n",
       "       [ 1.5 ,  3.93],\n",
       "       [-0.1 , -3.43],\n",
       "       [ 3.13,  0.92],\n",
       "       [ 1.96,  0.83],\n",
       "       [-2.95, -1.16],\n",
       "       [-1.41, -0.33],\n",
       "       [-1.45, -2.26],\n",
       "       [ 1.09,  3.12],\n",
       "       [-1.2 , -0.71],\n",
       "       [ 2.86,  1.35],\n",
       "       [ 1.73,  2.8 ],\n",
       "       [ 1.  ,  0.46],\n",
       "       [-2.19, -1.48],\n",
       "       [ 2.63,  0.4 ],\n",
       "       [ 1.33,  2.03]], dtype=float32)"
      ]
     },
     "execution_count": 25,
     "metadata": {},
     "output_type": "execute_result"
    }
   ],
   "source": [
    "mu,sigma = np.mean(X_train,axis = 0),np.std(X_train,axis=0)\n",
    "\n",
    "X_train,X_test = (X_train-mu)/sigma , (X_test-mu)/sigma\n",
    "\n",
    "fig,ax = \n"
   ]
  },
  {
   "cell_type": "code",
   "execution_count": null,
   "metadata": {},
   "outputs": [],
   "source": []
  }
 ],
 "metadata": {
  "kernelspec": {
   "display_name": "3.10.11",
   "language": "python",
   "name": "python3"
  },
  "language_info": {
   "codemirror_mode": {
    "name": "ipython",
    "version": 3
   },
   "file_extension": ".py",
   "mimetype": "text/x-python",
   "name": "python",
   "nbconvert_exporter": "python",
   "pygments_lexer": "ipython3",
   "version": "3.10.11"
  }
 },
 "nbformat": 4,
 "nbformat_minor": 2
}
